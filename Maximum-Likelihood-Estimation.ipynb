{
 "cells": [
  {
   "cell_type": "markdown",
   "metadata": {},
   "source": [
    "# Maximum Likelihood Estimation\n",
    "---"
   ]
  },
  {
   "cell_type": "markdown",
   "metadata": {},
   "source": [
    "## Remarks\n",
    "\n",
    "- It is a method of estimating the parameters of a **statistical model** given observations, by finding the parameter values that **maximize the likelihood** of making given the parameters.\n",
    "- It is a special case of **Maximum a Posteriori Estimation (MAP)** - unregularized.\n",
    "- MLE assumes a **uniform prior distribution** of the parameters.\n",
    "- It is a **point-wise estimation** (not distribution) ans assumes **no prior distribution** (uniform).\n",
    "- MLE works great for **classification** problems with discrete outcomes, but we have to use different distribution functions, depending on how many classe we have.\n",
    "\n",
    "**Formula:** $\\displaystyle \\max_{\\beta} \\{ \\displaystyle \\sum_i\\ln\\{p(y_i|\\beta)\\} \\}$\n",
    "\n",
    "---"
   ]
  },
  {
   "cell_type": "code",
   "execution_count": 1,
   "metadata": {},
   "outputs": [],
   "source": [
    "import numpy as np\n",
    "import pandas as pd\n",
    "import seaborn as sns\n",
    "import matplotlib.pyplot as plt\n",
    "from scipy import stats\n",
    "from scipy.stats import norm\n",
    "from scipy.optimize import minimize\n",
    "\n",
    "%matplotlib inline"
   ]
  },
  {
   "cell_type": "code",
   "execution_count": 2,
   "metadata": {},
   "outputs": [],
   "source": [
    "def plot_scatter(X, y):\n",
    "    ax = sns.regplot(X, y)\n",
    "    ax.set_ylabel(\"y\")\n",
    "    ax.set_xlabel(\"x\")"
   ]
  },
  {
   "cell_type": "code",
   "execution_count": 12,
   "metadata": {},
   "outputs": [
    {
     "data": {
      "image/png": "[encoded data removed]",
      "text/plain": [
       "<Figure size 432x288 with 1 Axes>"
      ]
     },
     "metadata": {
      "needs_background": "light"
     },
     "output_type": "display_data"
    }
   ],
   "source": [
    "N = 100\n",
    "X = np.random.normal(loc=5, scale=1, size=N)\n",
    "y = 3*X + np.random.normal(loc=1, scale=2.5, size=N) # size=N)\n",
    "\n",
    "plot_scatter(X, y)"
   ]
  },
  {
   "cell_type": "markdown",
   "metadata": {},
   "source": [
    "**[NOTE]:** Assume a Linear relationship"
   ]
  },
  {
   "cell_type": "code",
   "execution_count": 13,
   "metadata": {},
   "outputs": [],
   "source": [
    "def mle_regression(params):\n",
    "    intercept, beta, std = params[0], params[1], params[2]\n",
    "    yhat = intercept + beta * X\n",
    "    ll = -np.sum(norm.logpdf(y, loc=yhat, scale=std))\n",
    "    \n",
    "    return ll"
   ]
  },
  {
   "cell_type": "code",
   "execution_count": 14,
   "metadata": {},
   "outputs": [
    {
     "name": "stdout",
     "output_type": "stream",
     "text": [
      "Optimization terminated successfully.\n",
      "         Current function value: 227.883736\n",
      "         Iterations: 151\n",
      "         Function evaluations: 271\n"
     ]
    },
    {
     "data": {
      "text/html": [
       "<div>\n",
       "<style scoped>\n",
       "    .dataframe tbody tr th:only-of-type {\n",
       "        vertical-align: middle;\n",
       "    }\n",
       "\n",
       "    .dataframe tbody tr th {\n",
       "        vertical-align: top;\n",
       "    }\n",
       "\n",
       "    .dataframe thead th {\n",
       "        text-align: right;\n",
       "    }\n",
       "</style>\n",
       "<table border=\"1\" class=\"dataframe\">\n",
       "  <thead>\n",
       "    <tr style=\"text-align: right;\">\n",
       "      <th></th>\n",
       "      <th>coef</th>\n",
       "    </tr>\n",
       "  </thead>\n",
       "  <tbody>\n",
       "    <tr>\n",
       "      <th>constant</th>\n",
       "      <td>2.6010</td>\n",
       "    </tr>\n",
       "    <tr>\n",
       "      <th>x</th>\n",
       "      <td>2.7036</td>\n",
       "    </tr>\n",
       "  </tbody>\n",
       "</table>\n",
       "</div>"
      ],
      "text/plain": [
       "            coef\n",
       "constant  2.6010\n",
       "x         2.7036"
      ]
     },
     "execution_count": 14,
     "metadata": {},
     "output_type": "execute_result"
    }
   ],
   "source": [
    "initial_guess = np.array([3,5,1])\n",
    "res = minimize(mle_regression, x0=initial_guess, method=\"Nelder-Mead\", options={\"disp\": True})\n",
    "\n",
    "res_df = pd.DataFrame({'coef': res['x']})\n",
    "res_df.index=['constant','x','sigma']   \n",
    "np.round(res_df.head(2), 4)"
   ]
  },
  {
   "cell_type": "markdown",
   "metadata": {},
   "source": [
    "### Benchmark MLE"
   ]
  },
  {
   "cell_type": "code",
   "execution_count": 6,
   "metadata": {},
   "outputs": [],
   "source": [
    "import statsmodels.api as sm"
   ]
  },
  {
   "cell_type": "code",
   "execution_count": 15,
   "metadata": {},
   "outputs": [
    {
     "data": {
      "text/html": [
       "<table class=\"simpletable\">\n",
       "<caption>OLS Regression Results</caption>\n",
       "<tr>\n",
       "  <th>Dep. Variable:</th>            <td>y</td>        <th>  R-squared:         </th> <td>   0.585</td>\n",
       "</tr>\n",
       "<tr>\n",
       "  <th>Model:</th>                   <td>OLS</td>       <th>  Adj. R-squared:    </th> <td>   0.580</td>\n",
       "</tr>\n",
       "<tr>\n",
       "  <th>Method:</th>             <td>Least Squares</td>  <th>  F-statistic:       </th> <td>   138.0</td>\n",
       "</tr>\n",
       "<tr>\n",
       "  <th>Date:</th>             <td>Thu, 15 Oct 2020</td> <th>  Prob (F-statistic):</th> <td>2.08e-20</td>\n",
       "</tr>\n",
       "<tr>\n",
       "  <th>Time:</th>                 <td>13:21:34</td>     <th>  Log-Likelihood:    </th> <td> -227.88</td>\n",
       "</tr>\n",
       "<tr>\n",
       "  <th>No. Observations:</th>      <td>   100</td>      <th>  AIC:               </th> <td>   459.8</td>\n",
       "</tr>\n",
       "<tr>\n",
       "  <th>Df Residuals:</th>          <td>    98</td>      <th>  BIC:               </th> <td>   465.0</td>\n",
       "</tr>\n",
       "<tr>\n",
       "  <th>Df Model:</th>              <td>     1</td>      <th>                     </th>     <td> </td>   \n",
       "</tr>\n",
       "<tr>\n",
       "  <th>Covariance Type:</th>      <td>nonrobust</td>    <th>                     </th>     <td> </td>   \n",
       "</tr>\n",
       "</table>\n",
       "<table class=\"simpletable\">\n",
       "<tr>\n",
       "      <td></td>        <th>coef</th>     <th>std err</th>      <th>t</th>      <th>P>|t|</th>  <th>[0.025</th>    <th>0.975]</th>  \n",
       "</tr>\n",
       "<tr>\n",
       "  <th>constant</th> <td>    2.6010</td> <td>    1.195</td> <td>    2.176</td> <td> 0.032</td> <td>    0.229</td> <td>    4.973</td>\n",
       "</tr>\n",
       "<tr>\n",
       "  <th>x</th>        <td>    2.7036</td> <td>    0.230</td> <td>   11.746</td> <td> 0.000</td> <td>    2.247</td> <td>    3.160</td>\n",
       "</tr>\n",
       "</table>\n",
       "<table class=\"simpletable\">\n",
       "<tr>\n",
       "  <th>Omnibus:</th>       <td> 3.024</td> <th>  Durbin-Watson:     </th> <td>   1.844</td>\n",
       "</tr>\n",
       "<tr>\n",
       "  <th>Prob(Omnibus):</th> <td> 0.220</td> <th>  Jarque-Bera (JB):  </th> <td>   3.009</td>\n",
       "</tr>\n",
       "<tr>\n",
       "  <th>Skew:</th>          <td> 0.385</td> <th>  Prob(JB):          </th> <td>   0.222</td>\n",
       "</tr>\n",
       "<tr>\n",
       "  <th>Kurtosis:</th>      <td> 2.640</td> <th>  Cond. No.          </th> <td>    26.9</td>\n",
       "</tr>\n",
       "</table><br/><br/>Warnings:<br/>[1] Standard Errors assume that the covariance matrix of the errors is correctly specified."
      ],
      "text/plain": [
       "<class 'statsmodels.iolib.summary.Summary'>\n",
       "\"\"\"\n",
       "                            OLS Regression Results                            \n",
       "==============================================================================\n",
       "Dep. Variable:                      y   R-squared:                       0.585\n",
       "Model:                            OLS   Adj. R-squared:                  0.580\n",
       "Method:                 Least Squares   F-statistic:                     138.0\n",
       "Date:                Thu, 15 Oct 2020   Prob (F-statistic):           2.08e-20\n",
       "Time:                        13:21:34   Log-Likelihood:                -227.88\n",
       "No. Observations:                 100   AIC:                             459.8\n",
       "Df Residuals:                      98   BIC:                             465.0\n",
       "Df Model:                           1                                         \n",
       "Covariance Type:            nonrobust                                         \n",
       "==============================================================================\n",
       "                 coef    std err          t      P>|t|      [0.025      0.975]\n",
       "------------------------------------------------------------------------------\n",
       "constant       2.6010      1.195      2.176      0.032       0.229       4.973\n",
       "x              2.7036      0.230     11.746      0.000       2.247       3.160\n",
       "==============================================================================\n",
       "Omnibus:                        3.024   Durbin-Watson:                   1.844\n",
       "Prob(Omnibus):                  0.220   Jarque-Bera (JB):                3.009\n",
       "Skew:                           0.385   Prob(JB):                        0.222\n",
       "Kurtosis:                       2.640   Cond. No.                         26.9\n",
       "==============================================================================\n",
       "\n",
       "Warnings:\n",
       "[1] Standard Errors assume that the covariance matrix of the errors is correctly specified.\n",
       "\"\"\""
      ]
     },
     "execution_count": 15,
     "metadata": {},
     "output_type": "execute_result"
    }
   ],
   "source": [
    "df = pd.DataFrame({'y':y, 'x':X})\n",
    "df['constant'] = 1\n",
    "\n",
    "X_df = df[['constant', 'x']]\n",
    "sm.OLS(y,X_df).fit().summary()"
   ]
  },
  {
   "cell_type": "markdown",
   "metadata": {},
   "source": [
    "---"
   ]
  },
  {
   "cell_type": "markdown",
   "metadata": {},
   "source": [
    "### Poisson\n",
    "\n",
    "For events with an expected separation $\\lambda$ the Poisson distribution $f(x;\\lambda)$ describes the probability of $x$ events occuring within the observed interval $\\lambda$.\n",
    "\n",
    "\n",
    "**Formula:** $f(x) = \\frac{e^{-\\lambda} \\lambda^{x}}{x!},\\; x = 0,1,2, ...$\n",
    "\n",
    "**MLE Poisson:** $\\hat{\\lambda} = \\frac{\\displaystyle\\sum^{n}_{i=1}x_i}{n}$"
   ]
  },
  {
   "cell_type": "code",
   "execution_count": 8,
   "metadata": {},
   "outputs": [],
   "source": [
    "import random"
   ]
  },
  {
   "cell_type": "code",
   "execution_count": 9,
   "metadata": {},
   "outputs": [],
   "source": [
    "N = 200\n",
    "random_lambda = random.choices(range(1,10))[0]\n",
    "X = np.random.poisson(lam=random_lambda, size=N)"
   ]
  },
  {
   "cell_type": "code",
   "execution_count": 10,
   "metadata": {},
   "outputs": [
    {
     "name": "stdout",
     "output_type": "stream",
     "text": [
      "- Random Lambda: 4\n",
      "- MLE Poisson: 3.79\n"
     ]
    }
   ],
   "source": [
    "def mle_poisson(X):\n",
    "    res = X.sum()/N\n",
    "    return res\n",
    "\n",
    "poisson_mle_res = mle_poisson(X)\n",
    "\n",
    "print(f\"- Random Lambda: {random_lambda}\")\n",
    "print(f\"- MLE Poisson: {poisson_mle_res}\")"
   ]
  },
  {
   "cell_type": "markdown",
   "metadata": {},
   "source": [
    "---"
   ]
  }
 ],
 "metadata": {
  "kernelspec": {
   "display_name": "conda_python3",
   "language": "python",
   "name": "conda_python3"
  },
  "language_info": {
   "codemirror_mode": {
    "name": "ipython",
    "version": 3
   },
   "file_extension": ".py",
   "mimetype": "text/x-python",
   "name": "python",
   "nbconvert_exporter": "python",
   "pygments_lexer": "ipython3",
   "version": "3.6.10"
  }
 },
 "nbformat": 4,
 "nbformat_minor": 4
}
